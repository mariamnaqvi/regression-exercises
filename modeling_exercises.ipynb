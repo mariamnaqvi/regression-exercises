{
 "cells": [
  {
   "cell_type": "code",
   "execution_count": 1,
   "metadata": {},
   "outputs": [],
   "source": [
    "import pandas as pd\n",
    "import numpy as np\n",
    "from pydataset import data\n",
    "\n",
    "import wrangle\n",
    "import matplotlib.pyplot as plt\n",
    "\n",
    "# modeling methods\n",
    "from sklearn.metrics import mean_squared_error\n",
    "from sklearn.linear_model import LinearRegression, LassoLars, TweedieRegressor\n",
    "from sklearn.preprocessing import PolynomialFeatures\n",
    "from sklearn.metrics import explained_variance_score\n",
    "\n",
    "\n",
    "import warnings\n",
    "warnings.filterwarnings(\"ignore\")\n"
   ]
  },
  {
   "cell_type": "code",
   "execution_count": 2,
   "metadata": {},
   "outputs": [],
   "source": [
    "pd.set_option('display.max_columns', None)\n",
    "pd.set_option('display.max_rows', None)"
   ]
  },
  {
   "cell_type": "markdown",
   "metadata": {},
   "source": [
    "## 1. Select a dataset with a continuous target variable."
   ]
  },
  {
   "cell_type": "code",
   "execution_count": 3,
   "metadata": {},
   "outputs": [],
   "source": [
    "# check the different datasets available in pydatasets\n",
    "# data()"
   ]
  },
  {
   "cell_type": "code",
   "execution_count": 4,
   "metadata": {},
   "outputs": [],
   "source": [
    "# select and load my dataset\n",
    "df = data('EmplUK')"
   ]
  },
  {
   "cell_type": "code",
   "execution_count": 5,
   "metadata": {},
   "outputs": [
    {
     "data": {
      "text/html": [
       "<div>\n",
       "<style scoped>\n",
       "    .dataframe tbody tr th:only-of-type {\n",
       "        vertical-align: middle;\n",
       "    }\n",
       "\n",
       "    .dataframe tbody tr th {\n",
       "        vertical-align: top;\n",
       "    }\n",
       "\n",
       "    .dataframe thead th {\n",
       "        text-align: right;\n",
       "    }\n",
       "</style>\n",
       "<table border=\"1\" class=\"dataframe\">\n",
       "  <thead>\n",
       "    <tr style=\"text-align: right;\">\n",
       "      <th></th>\n",
       "      <th>firm</th>\n",
       "      <th>year</th>\n",
       "      <th>sector</th>\n",
       "      <th>emp</th>\n",
       "      <th>wage</th>\n",
       "      <th>capital</th>\n",
       "      <th>output</th>\n",
       "    </tr>\n",
       "  </thead>\n",
       "  <tbody>\n",
       "    <tr>\n",
       "      <th>1</th>\n",
       "      <td>1</td>\n",
       "      <td>1977</td>\n",
       "      <td>7</td>\n",
       "      <td>5.041</td>\n",
       "      <td>13.1516</td>\n",
       "      <td>0.5894</td>\n",
       "      <td>95.707199</td>\n",
       "    </tr>\n",
       "    <tr>\n",
       "      <th>2</th>\n",
       "      <td>1</td>\n",
       "      <td>1978</td>\n",
       "      <td>7</td>\n",
       "      <td>5.600</td>\n",
       "      <td>12.3018</td>\n",
       "      <td>0.6318</td>\n",
       "      <td>97.356903</td>\n",
       "    </tr>\n",
       "    <tr>\n",
       "      <th>3</th>\n",
       "      <td>1</td>\n",
       "      <td>1979</td>\n",
       "      <td>7</td>\n",
       "      <td>5.015</td>\n",
       "      <td>12.8395</td>\n",
       "      <td>0.6771</td>\n",
       "      <td>99.608299</td>\n",
       "    </tr>\n",
       "    <tr>\n",
       "      <th>4</th>\n",
       "      <td>1</td>\n",
       "      <td>1980</td>\n",
       "      <td>7</td>\n",
       "      <td>4.715</td>\n",
       "      <td>13.8039</td>\n",
       "      <td>0.6171</td>\n",
       "      <td>100.550100</td>\n",
       "    </tr>\n",
       "    <tr>\n",
       "      <th>5</th>\n",
       "      <td>1</td>\n",
       "      <td>1981</td>\n",
       "      <td>7</td>\n",
       "      <td>4.093</td>\n",
       "      <td>14.2897</td>\n",
       "      <td>0.5076</td>\n",
       "      <td>99.558098</td>\n",
       "    </tr>\n",
       "  </tbody>\n",
       "</table>\n",
       "</div>"
      ],
      "text/plain": [
       "   firm  year  sector    emp     wage  capital      output\n",
       "1     1  1977       7  5.041  13.1516   0.5894   95.707199\n",
       "2     1  1978       7  5.600  12.3018   0.6318   97.356903\n",
       "3     1  1979       7  5.015  12.8395   0.6771   99.608299\n",
       "4     1  1980       7  4.715  13.8039   0.6171  100.550100\n",
       "5     1  1981       7  4.093  14.2897   0.5076   99.558098"
      ]
     },
     "execution_count": 5,
     "metadata": {},
     "output_type": "execute_result"
    }
   ],
   "source": [
    "# quick look at data\n",
    "df.head()"
   ]
  },
  {
   "cell_type": "code",
   "execution_count": 6,
   "metadata": {},
   "outputs": [
    {
     "name": "stdout",
     "output_type": "stream",
     "text": [
      "EmplUK\n",
      "\n",
      "PyDataset Documentation (adopted from R Documentation. The displayed examples are in R)\n",
      "\n",
      "## Employment and Wages in the United Kingdom\n",
      "\n",
      "### Description\n",
      "\n",
      "An unbalanced panel of 140 observations from 1976 to 1984\n",
      "\n",
      "_total number of observations_ : 1031\n",
      "\n",
      "_observation_ : firms\n",
      "\n",
      "_country_ : United Kingdom\n",
      "\n",
      "### Usage\n",
      "\n",
      "    data(EmplUK)\n",
      "\n",
      "### Format\n",
      "\n",
      "A data frame containing :\n",
      "\n",
      "firm\n",
      "\n",
      "firm index\n",
      "\n",
      "year\n",
      "\n",
      "year\n",
      "\n",
      "sector\n",
      "\n",
      "the sector of activity\n",
      "\n",
      "emp\n",
      "\n",
      "employment\n",
      "\n",
      "wage\n",
      "\n",
      "wages\n",
      "\n",
      "capital\n",
      "\n",
      "capital\n",
      "\n",
      "output\n",
      "\n",
      "output\n",
      "\n",
      "### Source\n",
      "\n",
      "Arellano, M. and Bond, S. (1991), Some Tests of Specification for Panel Data:\n",
      "Monte Carlo Evidence and an Application to Employment Equations, _The Review\n",
      "of Economic Studies_, vol. **58**(2), 1991, pp.227–297.\n",
      "\n",
      "\n"
     ]
    }
   ],
   "source": [
    "# read docs of data\n",
    "data('EmplUK', show_doc =True)"
   ]
  },
  {
   "cell_type": "code",
   "execution_count": 7,
   "metadata": {},
   "outputs": [
    {
     "name": "stdout",
     "output_type": "stream",
     "text": [
      "<class 'pandas.core.frame.DataFrame'>\n",
      "Int64Index: 1031 entries, 1 to 1031\n",
      "Data columns (total 7 columns):\n",
      " #   Column   Non-Null Count  Dtype  \n",
      "---  ------   --------------  -----  \n",
      " 0   firm     1031 non-null   int64  \n",
      " 1   year     1031 non-null   int64  \n",
      " 2   sector   1031 non-null   int64  \n",
      " 3   emp      1031 non-null   float64\n",
      " 4   wage     1031 non-null   float64\n",
      " 5   capital  1031 non-null   float64\n",
      " 6   output   1031 non-null   float64\n",
      "dtypes: float64(4), int64(3)\n",
      "memory usage: 64.4 KB\n"
     ]
    }
   ],
   "source": [
    "# info about df\n",
    "df.info()"
   ]
  },
  {
   "cell_type": "code",
   "execution_count": 8,
   "metadata": {},
   "outputs": [],
   "source": [
    "# split df\n",
    "train, validate, test = wrangle.split_data(df)"
   ]
  },
  {
   "cell_type": "code",
   "execution_count": 9,
   "metadata": {},
   "outputs": [
    {
     "data": {
      "text/html": [
       "<div>\n",
       "<style scoped>\n",
       "    .dataframe tbody tr th:only-of-type {\n",
       "        vertical-align: middle;\n",
       "    }\n",
       "\n",
       "    .dataframe tbody tr th {\n",
       "        vertical-align: top;\n",
       "    }\n",
       "\n",
       "    .dataframe thead th {\n",
       "        text-align: right;\n",
       "    }\n",
       "</style>\n",
       "<table border=\"1\" class=\"dataframe\">\n",
       "  <thead>\n",
       "    <tr style=\"text-align: right;\">\n",
       "      <th></th>\n",
       "      <th>firm</th>\n",
       "      <th>year</th>\n",
       "      <th>sector</th>\n",
       "      <th>emp</th>\n",
       "      <th>wage</th>\n",
       "      <th>capital</th>\n",
       "      <th>output</th>\n",
       "    </tr>\n",
       "  </thead>\n",
       "  <tbody>\n",
       "    <tr>\n",
       "      <th>722</th>\n",
       "      <td>104</td>\n",
       "      <td>1977</td>\n",
       "      <td>7</td>\n",
       "      <td>1.388</td>\n",
       "      <td>17.587999</td>\n",
       "      <td>0.5916</td>\n",
       "      <td>95.820999</td>\n",
       "    </tr>\n",
       "    <tr>\n",
       "      <th>565</th>\n",
       "      <td>81</td>\n",
       "      <td>1980</td>\n",
       "      <td>4</td>\n",
       "      <td>0.790</td>\n",
       "      <td>21.758801</td>\n",
       "      <td>0.1477</td>\n",
       "      <td>100.000000</td>\n",
       "    </tr>\n",
       "    <tr>\n",
       "      <th>629</th>\n",
       "      <td>90</td>\n",
       "      <td>1981</td>\n",
       "      <td>2</td>\n",
       "      <td>10.806</td>\n",
       "      <td>25.315001</td>\n",
       "      <td>6.7985</td>\n",
       "      <td>91.750000</td>\n",
       "    </tr>\n",
       "    <tr>\n",
       "      <th>890</th>\n",
       "      <td>125</td>\n",
       "      <td>1977</td>\n",
       "      <td>8</td>\n",
       "      <td>0.451</td>\n",
       "      <td>19.853500</td>\n",
       "      <td>0.1110</td>\n",
       "      <td>117.339200</td>\n",
       "    </tr>\n",
       "    <tr>\n",
       "      <th>976</th>\n",
       "      <td>134</td>\n",
       "      <td>1983</td>\n",
       "      <td>8</td>\n",
       "      <td>13.349</td>\n",
       "      <td>18.491100</td>\n",
       "      <td>1.2235</td>\n",
       "      <td>94.671402</td>\n",
       "    </tr>\n",
       "  </tbody>\n",
       "</table>\n",
       "</div>"
      ],
      "text/plain": [
       "     firm  year  sector     emp       wage  capital      output\n",
       "722   104  1977       7   1.388  17.587999   0.5916   95.820999\n",
       "565    81  1980       4   0.790  21.758801   0.1477  100.000000\n",
       "629    90  1981       2  10.806  25.315001   6.7985   91.750000\n",
       "890   125  1977       8   0.451  19.853500   0.1110  117.339200\n",
       "976   134  1983       8  13.349  18.491100   1.2235   94.671402"
      ]
     },
     "execution_count": 9,
     "metadata": {},
     "output_type": "execute_result"
    }
   ],
   "source": [
    "train.head()"
   ]
  },
  {
   "cell_type": "markdown",
   "metadata": {},
   "source": [
    "> predicting wage so that is our target variable"
   ]
  },
  {
   "cell_type": "code",
   "execution_count": 10,
   "metadata": {},
   "outputs": [],
   "source": [
    "# assign X and y variables\n",
    "X_train = train.drop(columns = ['wage'])\n",
    "X_validate = validate.drop(columns = ['wage'])\n",
    "X_test = test.drop(columns = ['wage'])\n",
    "\n",
    "y_train = train[['wage']]\n",
    "y_validate = validate[['wage']]\n",
    "y_test = test[['wage']]"
   ]
  },
  {
   "cell_type": "code",
   "execution_count": 11,
   "metadata": {},
   "outputs": [],
   "source": [
    "# scale the predictors \n",
    "scaler, X_train_scaled, X_validate_scaled, X_test_scaled= wrangle.Min_Max_scaler(X_train, X_validate, X_test)"
   ]
  },
  {
   "cell_type": "code",
   "execution_count": 12,
   "metadata": {},
   "outputs": [
    {
     "data": {
      "image/png": "[encoded data removed]",
      "text/plain": [
       "<Figure size 432x288 with 1 Axes>"
      ]
     },
     "metadata": {
      "needs_background": "light"
     },
     "output_type": "display_data"
    }
   ],
   "source": [
    "# how do we determine distribution of target?\n",
    "plt.hist(y_train)\n",
    "plt.title('Distribution of Target: Wage')\n",
    "plt.show()"
   ]
  },
  {
   "cell_type": "markdown",
   "metadata": {},
   "source": [
    "## Takeaways:\n",
    "\n",
    "- Distribution is pretty much normal"
   ]
  },
  {
   "cell_type": "markdown",
   "metadata": {},
   "source": [
    "### Use skbest and rfe to see which are the top 4 features"
   ]
  },
  {
   "cell_type": "code",
   "execution_count": 13,
   "metadata": {},
   "outputs": [
    {
     "data": {
      "text/plain": [
       "Index(['firm', 'sector', 'emp', 'capital'], dtype='object')"
      ]
     },
     "execution_count": 13,
     "metadata": {},
     "output_type": "execute_result"
    }
   ],
   "source": [
    "wrangle.select_kbest(X_train_scaled, y_train, 4)"
   ]
  },
  {
   "cell_type": "code",
   "execution_count": 14,
   "metadata": {},
   "outputs": [
    {
     "data": {
      "text/plain": [
       "Index(['sector', 'emp', 'capital', 'output'], dtype='object')"
      ]
     },
     "execution_count": 14,
     "metadata": {},
     "output_type": "execute_result"
    }
   ],
   "source": [
    "wrangle.rfe(X_train_scaled, y_train, 4)"
   ]
  },
  {
   "cell_type": "code",
   "execution_count": 15,
   "metadata": {},
   "outputs": [
    {
     "data": {
      "text/plain": [
       "<AxesSubplot:>"
      ]
     },
     "execution_count": 15,
     "metadata": {},
     "output_type": "execute_result"
    },
    {
     "data": {
      "image/png": "[encoded data removed]",
      "text/plain": [
       "<Figure size 1296x360 with 1 Axes>"
      ]
     },
     "metadata": {
      "needs_background": "light"
     },
     "output_type": "display_data"
    }
   ],
   "source": [
    "# correlation of features with the target variable\n",
    "\n",
    "train.corr().wage.sort_values(ascending=False).plot(kind='bar', figsize=(18,5))\n"
   ]
  },
  {
   "cell_type": "markdown",
   "metadata": {},
   "source": [
    "###  Based on rfe and correlation, we will go with the following features:\n",
    "- sector\n",
    "- capital\n",
    "- emp\n"
   ]
  },
  {
   "cell_type": "code",
   "execution_count": 16,
   "metadata": {},
   "outputs": [],
   "source": [
    "features = ['sector', 'emp', 'capital']"
   ]
  },
  {
   "cell_type": "code",
   "execution_count": 17,
   "metadata": {},
   "outputs": [
    {
     "name": "stdout",
     "output_type": "stream",
     "text": [
      "RMSE using Mean\n",
      "Train/In-Sample:  5.7 \n",
      "Validate/Out-of-Sample:  5.79\n",
      "-----------\n",
      "RMSE using Median\n",
      "Train/In-Sample:  5.7 \n",
      "Validate/Out-of-Sample:  5.8\n"
     ]
    }
   ],
   "source": [
    "# 1. Predict wage_pred_mean\n",
    "wage_pred_mean = y_train.wage.mean()\n",
    "y_train['wage_pred_mean'] = wage_pred_mean\n",
    "y_validate['wage_pred_mean'] = wage_pred_mean\n",
    "\n",
    "# 2. compute wage_pred_median\n",
    "wage_pred_median = y_train.wage.median()\n",
    "y_train['wage_pred_median'] = wage_pred_median\n",
    "y_validate['wage_pred_median'] = wage_pred_median\n",
    "\n",
    "# # 3. RMSE of wage_pred_mean\n",
    "rmse_train = mean_squared_error(y_train.wage, y_train.wage_pred_mean) ** 0.5\n",
    "rmse_validate = mean_squared_error(y_validate.wage, y_validate.wage_pred_mean) ** 0.5\n",
    "\n",
    "print(\"RMSE using Mean\\nTrain/In-Sample: \", round(rmse_train, 2), \n",
    "      \"\\nValidate/Out-of-Sample: \", round(rmse_validate, 2))\n",
    "\n",
    "\n",
    "# # 4. RMSE of wage_pred_median\n",
    "rmse_train = mean_squared_error(y_train.wage, y_train.wage_pred_median) ** .5\n",
    "rmse_validate = mean_squared_error(y_validate.wage, y_validate.wage_pred_median) ** .5\n",
    "print('-----------')\n",
    "print(\"RMSE using Median\\nTrain/In-Sample: \", round(rmse_train, 2), \n",
    "      \"\\nValidate/Out-of-Sample: \", round(rmse_validate, 2))"
   ]
  },
  {
   "cell_type": "markdown",
   "metadata": {},
   "source": [
    "### Since using the mean, results in a smaller drop between RMSE for the train and validate sets, we will proceed with using the mean wage as the baseline"
   ]
  },
  {
   "cell_type": "code",
   "execution_count": 18,
   "metadata": {},
   "outputs": [
    {
     "data": {
      "image/png": "[encoded data removed]",
      "text/plain": [
       "<Figure size 432x288 with 1 Axes>"
      ]
     },
     "metadata": {
      "needs_background": "light"
     },
     "output_type": "display_data"
    }
   ],
   "source": [
    "# plot to visualize actual vs predicted\n",
    "plt.hist(y_train.wage, color='blue', alpha=.5, label=\"Actual Wages\")\n",
    "plt.hist(y_train.wage_pred_mean, bins=1, color='red', alpha=.5, rwidth=100, label=\"Predicted Wage - Mean\")\n",
    "plt.hist(y_train.wage_pred_median, bins=1, color='orange', alpha=.5, rwidth=100, label=\"Predicted Wage - Median\")\n",
    "plt.xlabel(\"Wage\")\n",
    "plt.ylabel(\"Number of Employees\")\n",
    "plt.legend()\n",
    "plt.show()"
   ]
  },
  {
   "cell_type": "code",
   "execution_count": 19,
   "metadata": {},
   "outputs": [],
   "source": [
    "metric_df = pd.DataFrame(data=[{\n",
    "    'model': 'mean_baseline',\n",
    "    'rmse_validate': rmse_validate,\n",
    "    'r^2_validate': explained_variance_score(y_validate.wage, y_validate.wage_pred_mean)}])"
   ]
  },
  {
   "cell_type": "code",
   "execution_count": 20,
   "metadata": {},
   "outputs": [
    {
     "data": {
      "text/html": [
       "<div>\n",
       "<style scoped>\n",
       "    .dataframe tbody tr th:only-of-type {\n",
       "        vertical-align: middle;\n",
       "    }\n",
       "\n",
       "    .dataframe tbody tr th {\n",
       "        vertical-align: top;\n",
       "    }\n",
       "\n",
       "    .dataframe thead th {\n",
       "        text-align: right;\n",
       "    }\n",
       "</style>\n",
       "<table border=\"1\" class=\"dataframe\">\n",
       "  <thead>\n",
       "    <tr style=\"text-align: right;\">\n",
       "      <th></th>\n",
       "      <th>model</th>\n",
       "      <th>rmse_validate</th>\n",
       "      <th>r^2_validate</th>\n",
       "    </tr>\n",
       "  </thead>\n",
       "  <tbody>\n",
       "    <tr>\n",
       "      <th>0</th>\n",
       "      <td>mean_baseline</td>\n",
       "      <td>5.797031</td>\n",
       "      <td>-2.220446e-16</td>\n",
       "    </tr>\n",
       "  </tbody>\n",
       "</table>\n",
       "</div>"
      ],
      "text/plain": [
       "           model  rmse_validate  r^2_validate\n",
       "0  mean_baseline       5.797031 -2.220446e-16"
      ]
     },
     "execution_count": 20,
     "metadata": {},
     "output_type": "execute_result"
    }
   ],
   "source": [
    "metric_df"
   ]
  },
  {
   "cell_type": "code",
   "execution_count": 21,
   "metadata": {},
   "outputs": [
    {
     "data": {
      "text/html": [
       "<div>\n",
       "<style scoped>\n",
       "    .dataframe tbody tr th:only-of-type {\n",
       "        vertical-align: middle;\n",
       "    }\n",
       "\n",
       "    .dataframe tbody tr th {\n",
       "        vertical-align: top;\n",
       "    }\n",
       "\n",
       "    .dataframe thead th {\n",
       "        text-align: right;\n",
       "    }\n",
       "</style>\n",
       "<table border=\"1\" class=\"dataframe\">\n",
       "  <thead>\n",
       "    <tr style=\"text-align: right;\">\n",
       "      <th></th>\n",
       "      <th>wage</th>\n",
       "      <th>wage_pred_mean</th>\n",
       "      <th>wage_pred_median</th>\n",
       "    </tr>\n",
       "  </thead>\n",
       "  <tbody>\n",
       "    <tr>\n",
       "      <th>722</th>\n",
       "      <td>17.587999</td>\n",
       "      <td>23.851947</td>\n",
       "      <td>24.04815</td>\n",
       "    </tr>\n",
       "    <tr>\n",
       "      <th>565</th>\n",
       "      <td>21.758801</td>\n",
       "      <td>23.851947</td>\n",
       "      <td>24.04815</td>\n",
       "    </tr>\n",
       "    <tr>\n",
       "      <th>629</th>\n",
       "      <td>25.315001</td>\n",
       "      <td>23.851947</td>\n",
       "      <td>24.04815</td>\n",
       "    </tr>\n",
       "    <tr>\n",
       "      <th>890</th>\n",
       "      <td>19.853500</td>\n",
       "      <td>23.851947</td>\n",
       "      <td>24.04815</td>\n",
       "    </tr>\n",
       "    <tr>\n",
       "      <th>976</th>\n",
       "      <td>18.491100</td>\n",
       "      <td>23.851947</td>\n",
       "      <td>24.04815</td>\n",
       "    </tr>\n",
       "  </tbody>\n",
       "</table>\n",
       "</div>"
      ],
      "text/plain": [
       "          wage  wage_pred_mean  wage_pred_median\n",
       "722  17.587999       23.851947          24.04815\n",
       "565  21.758801       23.851947          24.04815\n",
       "629  25.315001       23.851947          24.04815\n",
       "890  19.853500       23.851947          24.04815\n",
       "976  18.491100       23.851947          24.04815"
      ]
     },
     "execution_count": 21,
     "metadata": {},
     "output_type": "execute_result"
    }
   ],
   "source": [
    "y_train.head()"
   ]
  },
  {
   "cell_type": "markdown",
   "metadata": {},
   "source": [
    "### LinearRegression (OLS)\n",
    "- Fit the model using X_train_scaled and the labels from y_train.\n",
    "\n",
    "- Predict final grade for students in training sample using our model (lm).\n",
    "\n",
    "- Evaluate using RMSE\n",
    "\n",
    "- Repeat predictions and evaluation for validation.\n",
    "\n",
    "- Compare RMSE train vs. validation. Overfitting?\n",
    "\n",
    "- Add to metric df"
   ]
  },
  {
   "cell_type": "code",
   "execution_count": 22,
   "metadata": {},
   "outputs": [
    {
     "name": "stdout",
     "output_type": "stream",
     "text": [
      "RMSE for OLS using LinearRegression\n",
      "Training/In-Sample:  5.091112825053391 \n",
      "Validation/Out-of-Sample:  5.30923201100839\n"
     ]
    }
   ],
   "source": [
    "# create the model object\n",
    "# \n",
    "# make the thing\n",
    "# \n",
    "lm = LinearRegression()\n",
    "\n",
    "# fit the model to our training data. We must specify the column in y_train, \n",
    "# since we have converted it to a dataframe from a series! \n",
    "# \n",
    "# fit the thing\n",
    "# \n",
    "lm.fit(X_train[features], y_train.wage)\n",
    "\n",
    "# predict train\n",
    "# \n",
    "# use the thing!\n",
    "# \n",
    "y_train['wage_pred_lm'] = lm.predict(X_train[features])\n",
    "\n",
    "# evaluate: rmse\n",
    "rmse_train = mean_squared_error(y_train.wage, y_train.wage_pred_lm) ** (1/2)\n",
    "# predict validate\n",
    "y_validate['wage_pred_lm'] = lm.predict(X_validate[features])\n",
    "\n",
    "# evaluate: rmse\n",
    "rmse_validate = mean_squared_error(y_validate.wage, y_validate.wage_pred_lm) ** (1/2)\n",
    "\n",
    "print(\"RMSE for OLS using LinearRegression\\nTraining/In-Sample: \", rmse_train, \n",
    "      \"\\nValidation/Out-of-Sample: \", rmse_validate)"
   ]
  },
  {
   "cell_type": "code",
   "execution_count": 23,
   "metadata": {},
   "outputs": [],
   "source": [
    "metric_df = metric_df.append(\n",
    "    {\n",
    "    'model': 'OLS lm 1',\n",
    "    'rmse_validate': rmse_validate,\n",
    "    'r^2_validate': explained_variance_score(y_validate.wage, y_validate.wage_pred_lm)}, ignore_index=True)"
   ]
  },
  {
   "cell_type": "code",
   "execution_count": 24,
   "metadata": {},
   "outputs": [
    {
     "data": {
      "text/html": [
       "<div>\n",
       "<style scoped>\n",
       "    .dataframe tbody tr th:only-of-type {\n",
       "        vertical-align: middle;\n",
       "    }\n",
       "\n",
       "    .dataframe tbody tr th {\n",
       "        vertical-align: top;\n",
       "    }\n",
       "\n",
       "    .dataframe thead th {\n",
       "        text-align: right;\n",
       "    }\n",
       "</style>\n",
       "<table border=\"1\" class=\"dataframe\">\n",
       "  <thead>\n",
       "    <tr style=\"text-align: right;\">\n",
       "      <th></th>\n",
       "      <th>model</th>\n",
       "      <th>rmse_validate</th>\n",
       "      <th>r^2_validate</th>\n",
       "    </tr>\n",
       "  </thead>\n",
       "  <tbody>\n",
       "    <tr>\n",
       "      <th>0</th>\n",
       "      <td>mean_baseline</td>\n",
       "      <td>5.797031</td>\n",
       "      <td>-2.220446e-16</td>\n",
       "    </tr>\n",
       "    <tr>\n",
       "      <th>1</th>\n",
       "      <td>OLS lm 1</td>\n",
       "      <td>5.309232</td>\n",
       "      <td>1.565701e-01</td>\n",
       "    </tr>\n",
       "  </tbody>\n",
       "</table>\n",
       "</div>"
      ],
      "text/plain": [
       "           model  rmse_validate  r^2_validate\n",
       "0  mean_baseline       5.797031 -2.220446e-16\n",
       "1       OLS lm 1       5.309232  1.565701e-01"
      ]
     },
     "execution_count": 24,
     "metadata": {},
     "output_type": "execute_result"
    }
   ],
   "source": [
    "metric_df"
   ]
  },
  {
   "cell_type": "markdown",
   "metadata": {},
   "source": [
    "### LassoLars\n",
    "- Fit the model using X_train_scaled and the labels from y_train.\n",
    "\n",
    "- Predict final grade for students in training sample using our model (lars).\n",
    "\n",
    "- Evaluate using RMSE\n",
    "\n",
    "- Repeat predictions and evaluation for validation.\n",
    "\n",
    "- Compare RMSE train vs. validation. Overfitting?\n",
    "\n",
    "- Add to metric df"
   ]
  },
  {
   "cell_type": "code",
   "execution_count": 25,
   "metadata": {},
   "outputs": [
    {
     "name": "stdout",
     "output_type": "stream",
     "text": [
      "RMSE for Lasso + Lars\n",
      "Training/In-Sample:  5.698897591032835 \n",
      "Validation/Out-of-Sample:  5.7857842900693885\n"
     ]
    }
   ],
   "source": [
    "# create the model object\n",
    "lars = LassoLars(alpha=1)\n",
    "\n",
    "# fit the model to our training data. We must specify the column in y_train, \n",
    "# since we have converted it to a dataframe from a series!\n",
    "lars.fit(X_train[features], y_train.wage)\n",
    "\n",
    "# predict train\n",
    "y_train['wage_pred_lars'] = lars.predict(X_train[features])\n",
    "\n",
    "# evaluate: rmse\n",
    "rmse_train = mean_squared_error(y_train.wage, y_train.wage_pred_lars) ** 0.5\n",
    "\n",
    "# predict validate\n",
    "y_validate['wage_pred_lars'] = lars.predict(X_validate[features])\n",
    "\n",
    "# evaluate: rmse\n",
    "rmse_validate = mean_squared_error(y_validate.wage, y_validate.wage_pred_lars) ** 0.5\n",
    "\n",
    "print(\"RMSE for Lasso + Lars\\nTraining/In-Sample: \", rmse_train, \n",
    "      \"\\nValidation/Out-of-Sample: \", rmse_validate)"
   ]
  },
  {
   "cell_type": "code",
   "execution_count": 26,
   "metadata": {},
   "outputs": [],
   "source": [
    "metric_df = metric_df.append(\n",
    "    {\n",
    "    'model': 'LassoLars alpha 1',\n",
    "    'rmse_validate': rmse_validate,\n",
    "    'r^2_validate': explained_variance_score(y_validate.wage, y_validate.wage_pred_lars)}, ignore_index=True)"
   ]
  },
  {
   "cell_type": "code",
   "execution_count": 27,
   "metadata": {},
   "outputs": [
    {
     "data": {
      "text/html": [
       "<div>\n",
       "<style scoped>\n",
       "    .dataframe tbody tr th:only-of-type {\n",
       "        vertical-align: middle;\n",
       "    }\n",
       "\n",
       "    .dataframe tbody tr th {\n",
       "        vertical-align: top;\n",
       "    }\n",
       "\n",
       "    .dataframe thead th {\n",
       "        text-align: right;\n",
       "    }\n",
       "</style>\n",
       "<table border=\"1\" class=\"dataframe\">\n",
       "  <thead>\n",
       "    <tr style=\"text-align: right;\">\n",
       "      <th></th>\n",
       "      <th>model</th>\n",
       "      <th>rmse_validate</th>\n",
       "      <th>r^2_validate</th>\n",
       "    </tr>\n",
       "  </thead>\n",
       "  <tbody>\n",
       "    <tr>\n",
       "      <th>0</th>\n",
       "      <td>mean_baseline</td>\n",
       "      <td>5.797031</td>\n",
       "      <td>-2.220446e-16</td>\n",
       "    </tr>\n",
       "    <tr>\n",
       "      <th>1</th>\n",
       "      <td>OLS lm 1</td>\n",
       "      <td>5.309232</td>\n",
       "      <td>1.565701e-01</td>\n",
       "    </tr>\n",
       "    <tr>\n",
       "      <th>2</th>\n",
       "      <td>LassoLars alpha 1</td>\n",
       "      <td>5.785784</td>\n",
       "      <td>-2.220446e-16</td>\n",
       "    </tr>\n",
       "  </tbody>\n",
       "</table>\n",
       "</div>"
      ],
      "text/plain": [
       "               model  rmse_validate  r^2_validate\n",
       "0      mean_baseline       5.797031 -2.220446e-16\n",
       "1           OLS lm 1       5.309232  1.565701e-01\n",
       "2  LassoLars alpha 1       5.785784 -2.220446e-16"
      ]
     },
     "execution_count": 27,
     "metadata": {},
     "output_type": "execute_result"
    }
   ],
   "source": [
    "metric_df"
   ]
  },
  {
   "cell_type": "markdown",
   "metadata": {},
   "source": [
    "### TweedieRegressor (GLM)¶\n",
    "- Fit the model using X_train_scaled and the labels from y_train.\n",
    "\n",
    "- Predict final grade for students in training sample using our model (glm).\n",
    "\n",
    "- Evaluate using RMSE\n",
    "\n",
    "- Repeat predictions and evaluation for validation.\n",
    "\n",
    "- Compare RMSE train vs. validation. Overfitting?\n",
    "\n",
    "- Add to metric df"
   ]
  },
  {
   "cell_type": "code",
   "execution_count": 28,
   "metadata": {},
   "outputs": [
    {
     "name": "stdout",
     "output_type": "stream",
     "text": [
      "RMSE for GLM using Tweedie, power=1 & alpha=0\n",
      "Training/In-Sample:  5.099444997748806 \n",
      "Validation/Out-of-Sample:  5.302625067758969\n"
     ]
    }
   ],
   "source": [
    "# create the model object\n",
    "glm = TweedieRegressor(power=0, alpha=1)\n",
    "\n",
    "# fit the model to our training data. We must specify the column in y_train, \n",
    "# since we have converted it to a dataframe from a series! \n",
    "\n",
    "glm.fit(X_train[features], y_train.wage)\n",
    "\n",
    "# predict train\n",
    "y_train['wage_pred_glm'] = glm.predict(X_train[features])\n",
    "\n",
    "# evaluate: rmse\n",
    "rmse_train = mean_squared_error(y_train.wage, y_train.wage_pred_glm) ** 0.5\n",
    "\n",
    "\n",
    "# predict validate\n",
    "y_validate['wage_pred_glm'] = glm.predict(X_validate[features])\n",
    "\n",
    "# evaluate: rmse\n",
    "rmse_validate = mean_squared_error(y_validate.wage, y_validate.wage_pred_glm) ** 0.5\n",
    "\n",
    "\n",
    "print(\"RMSE for GLM using Tweedie, power=1 & alpha=0\\nTraining/In-Sample: \", rmse_train, \n",
    "      \"\\nValidation/Out-of-Sample: \", rmse_validate)"
   ]
  },
  {
   "cell_type": "code",
   "execution_count": 29,
   "metadata": {},
   "outputs": [],
   "source": [
    "metric_df = metric_df.append(\n",
    "    {\n",
    "    'model': 'Tweedie GLM Model power 1',\n",
    "    'rmse_validate': rmse_validate,\n",
    "    'r^2_validate': explained_variance_score(y_validate.wage, y_validate.wage_pred_glm)}, ignore_index=True)"
   ]
  },
  {
   "cell_type": "code",
   "execution_count": 30,
   "metadata": {},
   "outputs": [
    {
     "data": {
      "text/html": [
       "<div>\n",
       "<style scoped>\n",
       "    .dataframe tbody tr th:only-of-type {\n",
       "        vertical-align: middle;\n",
       "    }\n",
       "\n",
       "    .dataframe tbody tr th {\n",
       "        vertical-align: top;\n",
       "    }\n",
       "\n",
       "    .dataframe thead th {\n",
       "        text-align: right;\n",
       "    }\n",
       "</style>\n",
       "<table border=\"1\" class=\"dataframe\">\n",
       "  <thead>\n",
       "    <tr style=\"text-align: right;\">\n",
       "      <th></th>\n",
       "      <th>model</th>\n",
       "      <th>rmse_validate</th>\n",
       "      <th>r^2_validate</th>\n",
       "    </tr>\n",
       "  </thead>\n",
       "  <tbody>\n",
       "    <tr>\n",
       "      <th>0</th>\n",
       "      <td>mean_baseline</td>\n",
       "      <td>5.797031</td>\n",
       "      <td>-2.220446e-16</td>\n",
       "    </tr>\n",
       "    <tr>\n",
       "      <th>1</th>\n",
       "      <td>OLS lm 1</td>\n",
       "      <td>5.309232</td>\n",
       "      <td>1.565701e-01</td>\n",
       "    </tr>\n",
       "    <tr>\n",
       "      <th>2</th>\n",
       "      <td>LassoLars alpha 1</td>\n",
       "      <td>5.785784</td>\n",
       "      <td>-2.220446e-16</td>\n",
       "    </tr>\n",
       "    <tr>\n",
       "      <th>3</th>\n",
       "      <td>Tweedie GLM Model power 1</td>\n",
       "      <td>5.302625</td>\n",
       "      <td>1.586809e-01</td>\n",
       "    </tr>\n",
       "  </tbody>\n",
       "</table>\n",
       "</div>"
      ],
      "text/plain": [
       "                       model  rmse_validate  r^2_validate\n",
       "0              mean_baseline       5.797031 -2.220446e-16\n",
       "1                   OLS lm 1       5.309232  1.565701e-01\n",
       "2          LassoLars alpha 1       5.785784 -2.220446e-16\n",
       "3  Tweedie GLM Model power 1       5.302625  1.586809e-01"
      ]
     },
     "execution_count": 30,
     "metadata": {},
     "output_type": "execute_result"
    }
   ],
   "source": [
    "metric_df"
   ]
  },
  {
   "cell_type": "markdown",
   "metadata": {},
   "source": [
    "### Polynomial Regression\n",
    "- Using sklearn.preprocessing.PolynommialFeatures() + sklearn.linear_model.LinearRegression()\n",
    "\n",
    "- Create the new features, based on value indicated for degree for train, validate & test.\n",
    "\n",
    "- Fit the Linear Regression model\n",
    "\n",
    "- Predict using the transformed (squared or cubed, e.g.) features\n",
    "\n",
    "- Evaluate using RMSE\n",
    "\n",
    "- Repeat predictions and evaluation for validation.\n",
    "\n",
    "- Compare RMSE train vs. validation. Overfitting?\n",
    "\n",
    "- Add to metric df"
   ]
  },
  {
   "cell_type": "code",
   "execution_count": 60,
   "metadata": {},
   "outputs": [],
   "source": [
    "# make the polynomial features to get a new set of features\n",
    "pf = PolynomialFeatures(degree=2)\n",
    "\n",
    "# fit and transform X_train_scaled\n",
    "X_train_degree2 = pf.fit_transform(X_train[features])\n",
    "\n",
    "# transform X_validate_scaled & X_test_scaled\n",
    "X_validate_degree2 = pf.transform(X_validate[features])\n",
    "X_test_degree2 = pf.transform(X_test[features])"
   ]
  },
  {
   "cell_type": "markdown",
   "metadata": {},
   "source": [
    "### Linear Regression "
   ]
  },
  {
   "cell_type": "code",
   "execution_count": 61,
   "metadata": {},
   "outputs": [
    {
     "data": {
      "text/plain": [
       "LinearRegression(normalize=True)"
      ]
     },
     "execution_count": 61,
     "metadata": {},
     "output_type": "execute_result"
    }
   ],
   "source": [
    "# create the model object\n",
    "# \n",
    "# make the thing\n",
    "# \n",
    "lm2 = LinearRegression(normalize=True)\n",
    "\n",
    "# fit the model to our training data. We must specify the column in y_train, \n",
    "# since we have converted it to a dataframe from a series! \n",
    "# \n",
    "# fit the thing\n",
    "# \n",
    "lm2.fit(X_train_degree2, y_train.wage)"
   ]
  },
  {
   "cell_type": "code",
   "execution_count": 54,
   "metadata": {},
   "outputs": [
    {
     "name": "stdout",
     "output_type": "stream",
     "text": [
      "RMSE for PolynomialRegression\n",
      "Training/In-Sample:  5.037155509817979 \n",
      "Validation/Out-of-Sample:  5.254855957116693\n"
     ]
    }
   ],
   "source": [
    "# predict train\n",
    "# \n",
    "# use the thing!\n",
    "# \n",
    "y_train['wage_pred_lm2'] = lm2.predict(X_train_degree2)\n",
    "\n",
    "# evaluate: rmse\n",
    "rmse_train = mean_squared_error(y_train.wage, y_train.wage_pred_lm2) ** (1/2)\n",
    "# predict validate\n",
    "y_validate['wage_pred_lm2'] = lm2.predict(X_validate_degree2)\n",
    "\n",
    "# evaluate: rmse\n",
    "rmse_validate = mean_squared_error(y_validate.wage, y_validate.wage_pred_lm2) ** (1/2)\n",
    "\n",
    "print(\"RMSE for PolynomialRegression\\nTraining/In-Sample: \", rmse_train, \n",
    "      \"\\nValidation/Out-of-Sample: \", rmse_validate)\n"
   ]
  },
  {
   "cell_type": "code",
   "execution_count": 55,
   "metadata": {},
   "outputs": [],
   "source": [
    "metric_df = metric_df.append(\n",
    "    {\n",
    "    'model': 'PolyReg Model',\n",
    "    'rmse_validate': rmse_validate,\n",
    "    'r^2_validate': explained_variance_score(y_validate.wage, y_validate.wage_pred_lm2)}, ignore_index=True)"
   ]
  },
  {
   "cell_type": "code",
   "execution_count": 56,
   "metadata": {},
   "outputs": [
    {
     "data": {
      "text/html": [
       "<div>\n",
       "<style scoped>\n",
       "    .dataframe tbody tr th:only-of-type {\n",
       "        vertical-align: middle;\n",
       "    }\n",
       "\n",
       "    .dataframe tbody tr th {\n",
       "        vertical-align: top;\n",
       "    }\n",
       "\n",
       "    .dataframe thead th {\n",
       "        text-align: right;\n",
       "    }\n",
       "</style>\n",
       "<table border=\"1\" class=\"dataframe\">\n",
       "  <thead>\n",
       "    <tr style=\"text-align: right;\">\n",
       "      <th></th>\n",
       "      <th>model</th>\n",
       "      <th>rmse_validate</th>\n",
       "      <th>r^2_validate</th>\n",
       "    </tr>\n",
       "  </thead>\n",
       "  <tbody>\n",
       "    <tr>\n",
       "      <th>0</th>\n",
       "      <td>mean_baseline</td>\n",
       "      <td>5.797031</td>\n",
       "      <td>-2.220446e-16</td>\n",
       "    </tr>\n",
       "    <tr>\n",
       "      <th>1</th>\n",
       "      <td>OLS lm 1</td>\n",
       "      <td>5.309232</td>\n",
       "      <td>1.565701e-01</td>\n",
       "    </tr>\n",
       "    <tr>\n",
       "      <th>2</th>\n",
       "      <td>LassoLars alpha 1</td>\n",
       "      <td>5.785784</td>\n",
       "      <td>-2.220446e-16</td>\n",
       "    </tr>\n",
       "    <tr>\n",
       "      <th>3</th>\n",
       "      <td>Tweedie GLM Model power 1</td>\n",
       "      <td>5.302625</td>\n",
       "      <td>1.586809e-01</td>\n",
       "    </tr>\n",
       "    <tr>\n",
       "      <th>4</th>\n",
       "      <td>PolyReg Model</td>\n",
       "      <td>5.254856</td>\n",
       "      <td>1.737639e-01</td>\n",
       "    </tr>\n",
       "    <tr>\n",
       "      <th>5</th>\n",
       "      <td>PolyReg Model</td>\n",
       "      <td>5.254856</td>\n",
       "      <td>1.737639e-01</td>\n",
       "    </tr>\n",
       "  </tbody>\n",
       "</table>\n",
       "</div>"
      ],
      "text/plain": [
       "                       model  rmse_validate  r^2_validate\n",
       "0              mean_baseline       5.797031 -2.220446e-16\n",
       "1                   OLS lm 1       5.309232  1.565701e-01\n",
       "2          LassoLars alpha 1       5.785784 -2.220446e-16\n",
       "3  Tweedie GLM Model power 1       5.302625  1.586809e-01\n",
       "4              PolyReg Model       5.254856  1.737639e-01\n",
       "5              PolyReg Model       5.254856  1.737639e-01"
      ]
     },
     "execution_count": 56,
     "metadata": {},
     "output_type": "execute_result"
    }
   ],
   "source": [
    "metric_df"
   ]
  },
  {
   "cell_type": "markdown",
   "metadata": {},
   "source": [
    "### Evaluate\n",
    "#### Plotting Actual vs. Predicted Values"
   ]
  },
  {
   "cell_type": "code",
   "execution_count": 36,
   "metadata": {},
   "outputs": [
    {
     "data": {
      "text/html": [
       "<div>\n",
       "<style scoped>\n",
       "    .dataframe tbody tr th:only-of-type {\n",
       "        vertical-align: middle;\n",
       "    }\n",
       "\n",
       "    .dataframe tbody tr th {\n",
       "        vertical-align: top;\n",
       "    }\n",
       "\n",
       "    .dataframe thead th {\n",
       "        text-align: right;\n",
       "    }\n",
       "</style>\n",
       "<table border=\"1\" class=\"dataframe\">\n",
       "  <thead>\n",
       "    <tr style=\"text-align: right;\">\n",
       "      <th></th>\n",
       "      <th>wage</th>\n",
       "      <th>wage_pred_mean</th>\n",
       "      <th>wage_pred_median</th>\n",
       "      <th>wage_pred_lm</th>\n",
       "      <th>wage_pred_lars</th>\n",
       "      <th>wage_pred_glm</th>\n",
       "      <th>wage_pred_lm2</th>\n",
       "    </tr>\n",
       "  </thead>\n",
       "  <tbody>\n",
       "    <tr>\n",
       "      <th>416</th>\n",
       "      <td>23.1630</td>\n",
       "      <td>23.851947</td>\n",
       "      <td>24.04815</td>\n",
       "      <td>20.770514</td>\n",
       "      <td>23.851947</td>\n",
       "      <td>21.172880</td>\n",
       "      <td>21.234132</td>\n",
       "    </tr>\n",
       "    <tr>\n",
       "      <th>650</th>\n",
       "      <td>22.6926</td>\n",
       "      <td>23.851947</td>\n",
       "      <td>24.04815</td>\n",
       "      <td>22.062282</td>\n",
       "      <td>23.851947</td>\n",
       "      <td>22.051659</td>\n",
       "      <td>22.937019</td>\n",
       "    </tr>\n",
       "    <tr>\n",
       "      <th>889</th>\n",
       "      <td>27.0973</td>\n",
       "      <td>23.851947</td>\n",
       "      <td>24.04815</td>\n",
       "      <td>26.836692</td>\n",
       "      <td>23.851947</td>\n",
       "      <td>26.501729</td>\n",
       "      <td>26.504566</td>\n",
       "    </tr>\n",
       "    <tr>\n",
       "      <th>77</th>\n",
       "      <td>24.0345</td>\n",
       "      <td>23.851947</td>\n",
       "      <td>24.04815</td>\n",
       "      <td>25.945265</td>\n",
       "      <td>23.851947</td>\n",
       "      <td>25.715583</td>\n",
       "      <td>25.460895</td>\n",
       "    </tr>\n",
       "    <tr>\n",
       "      <th>88</th>\n",
       "      <td>26.0042</td>\n",
       "      <td>23.851947</td>\n",
       "      <td>24.04815</td>\n",
       "      <td>27.527459</td>\n",
       "      <td>23.851947</td>\n",
       "      <td>27.095451</td>\n",
       "      <td>27.714245</td>\n",
       "    </tr>\n",
       "  </tbody>\n",
       "</table>\n",
       "</div>"
      ],
      "text/plain": [
       "        wage  wage_pred_mean  wage_pred_median  wage_pred_lm  wage_pred_lars  \\\n",
       "416  23.1630       23.851947          24.04815     20.770514       23.851947   \n",
       "650  22.6926       23.851947          24.04815     22.062282       23.851947   \n",
       "889  27.0973       23.851947          24.04815     26.836692       23.851947   \n",
       "77   24.0345       23.851947          24.04815     25.945265       23.851947   \n",
       "88   26.0042       23.851947          24.04815     27.527459       23.851947   \n",
       "\n",
       "     wage_pred_glm  wage_pred_lm2  \n",
       "416      21.172880      21.234132  \n",
       "650      22.051659      22.937019  \n",
       "889      26.501729      26.504566  \n",
       "77       25.715583      25.460895  \n",
       "88       27.095451      27.714245  "
      ]
     },
     "execution_count": 36,
     "metadata": {},
     "output_type": "execute_result"
    }
   ],
   "source": [
    "y_validate.head()"
   ]
  },
  {
   "cell_type": "code",
   "execution_count": 38,
   "metadata": {},
   "outputs": [
    {
     "data": {
      "image/png": "[encoded data removed]",
      "text/plain": [
       "<Figure size 1152x576 with 1 Axes>"
      ]
     },
     "metadata": {
      "needs_background": "light"
     },
     "output_type": "display_data"
    }
   ],
   "source": [
    "# y_validate.head()\n",
    "plt.figure(figsize=(16,8))\n",
    "plt.plot(y_validate.wage, y_validate.wage_pred_mean, alpha=.5, color=\"gray\", label='_nolegend_')\n",
    "plt.annotate(\"Baseline: Predicted Using Mean\", (37, 21.5))\n",
    "plt.plot(y_validate.wage, y_validate.wage, alpha=.5, color=\"blue\", label='_nolegend_')\n",
    "plt.annotate(\"The Ideal Line: Predicted = Actual\", (9, 11), rotation=24.5)\n",
    "\n",
    "plt.scatter(y_validate.wage, y_validate.wage_pred_glm, \n",
    "            alpha=.5, color=\"red\", s=100, label=\"Model: TweedieRegressor\")\n",
    "plt.scatter(y_validate.wage, y_validate.wage_pred_lm2, \n",
    "            alpha=.5, color=\"green\", s=100, label=\"Model: PolynomialRegression\")\n",
    "plt.legend()\n",
    "plt.xlabel(\"Actual Wage\")\n",
    "plt.ylabel(\"Predicted Wage\")\n",
    "\n",
    "plt.show()"
   ]
  },
  {
   "cell_type": "markdown",
   "metadata": {},
   "source": [
    "> The Polynomial Regression Model is our best performing model with the lowest rmse and highest R squared"
   ]
  },
  {
   "cell_type": "markdown",
   "metadata": {},
   "source": [
    "### Residual Plots: Plotting the Errors in Predictions\n",
    "\n"
   ]
  },
  {
   "cell_type": "code",
   "execution_count": 41,
   "metadata": {},
   "outputs": [
    {
     "data": {
      "image/png": "[encoded data removed]",
      "text/plain": [
       "<Figure size 1152x576 with 1 Axes>"
      ]
     },
     "metadata": {
      "needs_background": "light"
     },
     "output_type": "display_data"
    }
   ],
   "source": [
    "# y_validate.head()\n",
    "plt.figure(figsize=(16,8))\n",
    "plt.axhline(label=\"No Error\")\n",
    "# plt.scatter(y_validate.wage, y_validate.wage_pred_lm - y_validate.wage, \n",
    "#             alpha=.5, color=\"red\", s=100, label=\"Model: LinearRegression\")\n",
    "plt.scatter(y_validate.wage, y_validate.wage_pred_glm - y_validate.wage, \n",
    "            alpha=.5, color=\"yellow\", s=100, label=\"Model: TweedieRegressor\")\n",
    "plt.scatter(y_validate.wage, y_validate.wage_pred_lm2 - y_validate.wage, \n",
    "            alpha=.5, color=\"green\", s=100, label=\"Model 2nd degree Polynomial\")\n",
    "plt.legend()\n",
    "plt.xlabel(\"Actual Wage\")\n",
    "plt.ylabel(\"Residual/Error: Predicted Wage - Actual Wage\")\n",
    "plt.title(\"Do the size of errors change as the actual value changes?\")\n",
    "\n",
    "plt.show()"
   ]
  },
  {
   "cell_type": "markdown",
   "metadata": {},
   "source": [
    "## Takeaways\n",
    "\n",
    "- There is a pattern in our residuals which means the model missed something \n",
    "- With the limited correlation between predictors and target and the small number of observations, it is unlikely this model can be improved further. However, some tuning of hyperparameters may help further reduce rmse and increase R squared."
   ]
  },
  {
   "cell_type": "code",
   "execution_count": 43,
   "metadata": {},
   "outputs": [
    {
     "data": {
      "image/png": "[encoded data removed]",
      "text/plain": [
       "<Figure size 1152x576 with 1 Axes>"
      ]
     },
     "metadata": {
      "needs_background": "light"
     },
     "output_type": "display_data"
    }
   ],
   "source": [
    "# plot to visualize actual vs predicted. \n",
    "plt.figure(figsize=(16,8))\n",
    "plt.hist(y_validate.wage, color='blue', alpha=.5, label=\"Actual Final Grades\")\n",
    "# plt.hist(y_validate.wage_pred_glm, color='red', alpha=.4, label=\"Model: TweedieRegressor\")\n",
    "plt.hist(y_validate.wage_pred_lm2, color='green', alpha=.5, label=\"Model 2nd degree Polynomial\")\n",
    "plt.xlabel(\"Wage\")\n",
    "plt.ylabel(\"Number of Employees\")\n",
    "plt.title(\"Comparing the Distribution of Actual Wages to Distributions of Predicted Wages for the Top Models\")\n",
    "plt.legend()\n",
    "plt.show()\n"
   ]
  },
  {
   "cell_type": "code",
   "execution_count": 44,
   "metadata": {},
   "outputs": [
    {
     "data": {
      "text/plain": [
       "LinearRegression(normalize=True)"
      ]
     },
     "execution_count": 44,
     "metadata": {},
     "output_type": "execute_result"
    }
   ],
   "source": [
    "lm2"
   ]
  },
  {
   "cell_type": "code",
   "execution_count": 49,
   "metadata": {},
   "outputs": [
    {
     "data": {
      "text/plain": [
       "['sector', 'emp', 'capital']"
      ]
     },
     "execution_count": 49,
     "metadata": {},
     "output_type": "execute_result"
    }
   ],
   "source": [
    "features"
   ]
  },
  {
   "cell_type": "code",
   "execution_count": 62,
   "metadata": {},
   "outputs": [],
   "source": [
    "# predict on test\n",
    "y_test['wage_pred_lm2'] = lm2.predict(X_test_degree2)\n"
   ]
  },
  {
   "cell_type": "code",
   "execution_count": 64,
   "metadata": {},
   "outputs": [
    {
     "name": "stdout",
     "output_type": "stream",
     "text": [
      "RMSE for Model using PolynomialRegression\n",
      "Out-of-Sample Performance:  4.841229939258224\n"
     ]
    }
   ],
   "source": [
    "# evaluate: rmse\n",
    "rmse_test = mean_squared_error(y_test.wage, y_test.wage_pred_lm2) ** 0.5\n",
    "print(\"RMSE for Model using PolynomialRegression\\nOut-of-Sample Performance: \", rmse_test)"
   ]
  }
 ],
 "metadata": {
  "kernelspec": {
   "display_name": "Python 3",
   "language": "python",
   "name": "python3"
  },
  "language_info": {
   "codemirror_mode": {
    "name": "ipython",
    "version": 3
   },
   "file_extension": ".py",
   "mimetype": "text/x-python",
   "name": "python",
   "nbconvert_exporter": "python",
   "pygments_lexer": "ipython3",
   "version": "3.8.5"
  }
 },
 "nbformat": 4,
 "nbformat_minor": 4
}
